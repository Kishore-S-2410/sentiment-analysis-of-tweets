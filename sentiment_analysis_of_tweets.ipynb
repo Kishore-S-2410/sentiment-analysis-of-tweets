{
  "nbformat": 4,
  "nbformat_minor": 0,
  "metadata": {
    "colab": {
      "name": "sentiment analysis of tweets.ipynb",
      "provenance": []
    },
    "kernelspec": {
      "name": "python3",
      "display_name": "Python 3"
    },
    "language_info": {
      "name": "python"
    }
  },
  "cells": [
    {
      "cell_type": "code",
      "execution_count": 2,
      "metadata": {
        "id": "nK_53rAL7Ynj"
      },
      "outputs": [],
      "source": [
        "import pandas as pd\n",
        "import numpy as np"
      ]
    },
    {
      "cell_type": "code",
      "source": [
        "data=pd.read_csv('/content/CoronaTweetsSentimentAnalysis.csv')"
      ],
      "metadata": {
        "id": "jUCGrxeV7pch"
      },
      "execution_count": 10,
      "outputs": []
    },
    {
      "cell_type": "code",
      "source": [
        "data.head(20)"
      ],
      "metadata": {
        "colab": {
          "base_uri": "https://localhost:8080/",
          "height": 677
        },
        "id": "CwoLfPBP70sk",
        "outputId": "4778e0ee-23cb-4efb-d03e-2a8b73b4f957"
      },
      "execution_count": 11,
      "outputs": [
        {
          "output_type": "execute_result",
          "data": {
            "text/plain": [
              "    UserName  ScreenName                   Location     TweetAt  \\\n",
              "0          1       44954                Seattle, WA  02-03-2020   \n",
              "1          2       44956                Chicagoland  02-03-2020   \n",
              "2          3       44959                        NaN  03-03-2020   \n",
              "3          4       44963     Boksburg, South Africa  04-03-2020   \n",
              "4          5       44967             Washington, DC  04-03-2020   \n",
              "5          6       44971                        NaN  05-03-2020   \n",
              "6          7       44973                      Malta  05-03-2020   \n",
              "7          8       44978           Wayne County, MI  07-03-2020   \n",
              "8          9       44979        Bondi Beach, Sydney  07-03-2020   \n",
              "9         10       44980                        NaN  07-03-2020   \n",
              "10        11       44981                        NaN  07-03-2020   \n",
              "11        12       44982              United States  07-03-2020   \n",
              "12        13       44983         New York, New York  07-03-2020   \n",
              "13        14       44989               New York, NY  08-03-2020   \n",
              "14        15       44991    Sydney, New South Wales  08-03-2020   \n",
              "15        16       44993              Michigan, USA  09-03-2020   \n",
              "16        17       44994               Pennsylvania  09-03-2020   \n",
              "17        18       44996           Washington, D.C.  09-03-2020   \n",
              "18        19       44997  Burnaby, British Columbia  09-03-2020   \n",
              "19        20       45005                   Colorado  09-03-2020   \n",
              "\n",
              "                                        OriginalTweet Sentiment  \n",
              "0   When I couldn't find hand sanitizer at Fred Me...  Positive  \n",
              "1   #Panic buying hits #NewYork City as anxious sh...  Negative  \n",
              "2   Voting in the age of #coronavirus = hand sanit...  Positive  \n",
              "3   Best quality couches at unbelievably low price...  Positive  \n",
              "4   While we were busy watching election returns a...  Positive  \n",
              "5   That's about a week from now. A bit optimistic...  Positive  \n",
              "6   #CoronaVirus #COVID_19 People are starting to ...  Negative  \n",
              "7   Alright yall I hope our Melanin prevails but ...  Positive  \n",
              "8   When your usual grocery shopping @woolworths t...  Negative  \n",
              "9   Coronavirus panic spreads: Costco is pulling f...  Negative  \n",
              "10  While you are stocking up, waiting for quarant...  Negative  \n",
              "11  #Coronavirus is \"an exposure of all the holes ...  Positive  \n",
              "12  Two important phone numbers NYers should know....  Negative  \n",
              "13  Fellow Uni instructors! COVID-19 f2f class can...  Negative  \n",
              "14  1/25 Part 1 - Why does soap work so well on th...  Negative  \n",
              "15  For those thinking #seniors #disabled &amp; #v...  Positive  \n",
              "16  So far 36 Pennsylvanians have reached out to m...  Negative  \n",
              "17  Scammers are taking advantage of fears surroun...  Positive  \n",
              "18  Are you doing business in international market...  Positive  \n",
              "19  Ignore online offers for #vaccinations. There ...  Negative  "
            ],
            "text/html": [
              "\n",
              "  <div id=\"df-1fd466e8-ac02-4106-9123-ef2596bc8a99\">\n",
              "    <div class=\"colab-df-container\">\n",
              "      <div>\n",
              "<style scoped>\n",
              "    .dataframe tbody tr th:only-of-type {\n",
              "        vertical-align: middle;\n",
              "    }\n",
              "\n",
              "    .dataframe tbody tr th {\n",
              "        vertical-align: top;\n",
              "    }\n",
              "\n",
              "    .dataframe thead th {\n",
              "        text-align: right;\n",
              "    }\n",
              "</style>\n",
              "<table border=\"1\" class=\"dataframe\">\n",
              "  <thead>\n",
              "    <tr style=\"text-align: right;\">\n",
              "      <th></th>\n",
              "      <th>UserName</th>\n",
              "      <th>ScreenName</th>\n",
              "      <th>Location</th>\n",
              "      <th>TweetAt</th>\n",
              "      <th>OriginalTweet</th>\n",
              "      <th>Sentiment</th>\n",
              "    </tr>\n",
              "  </thead>\n",
              "  <tbody>\n",
              "    <tr>\n",
              "      <th>0</th>\n",
              "      <td>1</td>\n",
              "      <td>44954</td>\n",
              "      <td>Seattle, WA</td>\n",
              "      <td>02-03-2020</td>\n",
              "      <td>When I couldn't find hand sanitizer at Fred Me...</td>\n",
              "      <td>Positive</td>\n",
              "    </tr>\n",
              "    <tr>\n",
              "      <th>1</th>\n",
              "      <td>2</td>\n",
              "      <td>44956</td>\n",
              "      <td>Chicagoland</td>\n",
              "      <td>02-03-2020</td>\n",
              "      <td>#Panic buying hits #NewYork City as anxious sh...</td>\n",
              "      <td>Negative</td>\n",
              "    </tr>\n",
              "    <tr>\n",
              "      <th>2</th>\n",
              "      <td>3</td>\n",
              "      <td>44959</td>\n",
              "      <td>NaN</td>\n",
              "      <td>03-03-2020</td>\n",
              "      <td>Voting in the age of #coronavirus = hand sanit...</td>\n",
              "      <td>Positive</td>\n",
              "    </tr>\n",
              "    <tr>\n",
              "      <th>3</th>\n",
              "      <td>4</td>\n",
              "      <td>44963</td>\n",
              "      <td>Boksburg, South Africa</td>\n",
              "      <td>04-03-2020</td>\n",
              "      <td>Best quality couches at unbelievably low price...</td>\n",
              "      <td>Positive</td>\n",
              "    </tr>\n",
              "    <tr>\n",
              "      <th>4</th>\n",
              "      <td>5</td>\n",
              "      <td>44967</td>\n",
              "      <td>Washington, DC</td>\n",
              "      <td>04-03-2020</td>\n",
              "      <td>While we were busy watching election returns a...</td>\n",
              "      <td>Positive</td>\n",
              "    </tr>\n",
              "    <tr>\n",
              "      <th>5</th>\n",
              "      <td>6</td>\n",
              "      <td>44971</td>\n",
              "      <td>NaN</td>\n",
              "      <td>05-03-2020</td>\n",
              "      <td>That's about a week from now. A bit optimistic...</td>\n",
              "      <td>Positive</td>\n",
              "    </tr>\n",
              "    <tr>\n",
              "      <th>6</th>\n",
              "      <td>7</td>\n",
              "      <td>44973</td>\n",
              "      <td>Malta</td>\n",
              "      <td>05-03-2020</td>\n",
              "      <td>#CoronaVirus #COVID_19 People are starting to ...</td>\n",
              "      <td>Negative</td>\n",
              "    </tr>\n",
              "    <tr>\n",
              "      <th>7</th>\n",
              "      <td>8</td>\n",
              "      <td>44978</td>\n",
              "      <td>Wayne County, MI</td>\n",
              "      <td>07-03-2020</td>\n",
              "      <td>Alright yall I hope our Melanin prevails but ...</td>\n",
              "      <td>Positive</td>\n",
              "    </tr>\n",
              "    <tr>\n",
              "      <th>8</th>\n",
              "      <td>9</td>\n",
              "      <td>44979</td>\n",
              "      <td>Bondi Beach, Sydney</td>\n",
              "      <td>07-03-2020</td>\n",
              "      <td>When your usual grocery shopping @woolworths t...</td>\n",
              "      <td>Negative</td>\n",
              "    </tr>\n",
              "    <tr>\n",
              "      <th>9</th>\n",
              "      <td>10</td>\n",
              "      <td>44980</td>\n",
              "      <td>NaN</td>\n",
              "      <td>07-03-2020</td>\n",
              "      <td>Coronavirus panic spreads: Costco is pulling f...</td>\n",
              "      <td>Negative</td>\n",
              "    </tr>\n",
              "    <tr>\n",
              "      <th>10</th>\n",
              "      <td>11</td>\n",
              "      <td>44981</td>\n",
              "      <td>NaN</td>\n",
              "      <td>07-03-2020</td>\n",
              "      <td>While you are stocking up, waiting for quarant...</td>\n",
              "      <td>Negative</td>\n",
              "    </tr>\n",
              "    <tr>\n",
              "      <th>11</th>\n",
              "      <td>12</td>\n",
              "      <td>44982</td>\n",
              "      <td>United States</td>\n",
              "      <td>07-03-2020</td>\n",
              "      <td>#Coronavirus is \"an exposure of all the holes ...</td>\n",
              "      <td>Positive</td>\n",
              "    </tr>\n",
              "    <tr>\n",
              "      <th>12</th>\n",
              "      <td>13</td>\n",
              "      <td>44983</td>\n",
              "      <td>New York, New York</td>\n",
              "      <td>07-03-2020</td>\n",
              "      <td>Two important phone numbers NYers should know....</td>\n",
              "      <td>Negative</td>\n",
              "    </tr>\n",
              "    <tr>\n",
              "      <th>13</th>\n",
              "      <td>14</td>\n",
              "      <td>44989</td>\n",
              "      <td>New York, NY</td>\n",
              "      <td>08-03-2020</td>\n",
              "      <td>Fellow Uni instructors! COVID-19 f2f class can...</td>\n",
              "      <td>Negative</td>\n",
              "    </tr>\n",
              "    <tr>\n",
              "      <th>14</th>\n",
              "      <td>15</td>\n",
              "      <td>44991</td>\n",
              "      <td>Sydney, New South Wales</td>\n",
              "      <td>08-03-2020</td>\n",
              "      <td>1/25 Part 1 - Why does soap work so well on th...</td>\n",
              "      <td>Negative</td>\n",
              "    </tr>\n",
              "    <tr>\n",
              "      <th>15</th>\n",
              "      <td>16</td>\n",
              "      <td>44993</td>\n",
              "      <td>Michigan, USA</td>\n",
              "      <td>09-03-2020</td>\n",
              "      <td>For those thinking #seniors #disabled &amp;amp; #v...</td>\n",
              "      <td>Positive</td>\n",
              "    </tr>\n",
              "    <tr>\n",
              "      <th>16</th>\n",
              "      <td>17</td>\n",
              "      <td>44994</td>\n",
              "      <td>Pennsylvania</td>\n",
              "      <td>09-03-2020</td>\n",
              "      <td>So far 36 Pennsylvanians have reached out to m...</td>\n",
              "      <td>Negative</td>\n",
              "    </tr>\n",
              "    <tr>\n",
              "      <th>17</th>\n",
              "      <td>18</td>\n",
              "      <td>44996</td>\n",
              "      <td>Washington, D.C.</td>\n",
              "      <td>09-03-2020</td>\n",
              "      <td>Scammers are taking advantage of fears surroun...</td>\n",
              "      <td>Positive</td>\n",
              "    </tr>\n",
              "    <tr>\n",
              "      <th>18</th>\n",
              "      <td>19</td>\n",
              "      <td>44997</td>\n",
              "      <td>Burnaby, British Columbia</td>\n",
              "      <td>09-03-2020</td>\n",
              "      <td>Are you doing business in international market...</td>\n",
              "      <td>Positive</td>\n",
              "    </tr>\n",
              "    <tr>\n",
              "      <th>19</th>\n",
              "      <td>20</td>\n",
              "      <td>45005</td>\n",
              "      <td>Colorado</td>\n",
              "      <td>09-03-2020</td>\n",
              "      <td>Ignore online offers for #vaccinations. There ...</td>\n",
              "      <td>Negative</td>\n",
              "    </tr>\n",
              "  </tbody>\n",
              "</table>\n",
              "</div>\n",
              "      <button class=\"colab-df-convert\" onclick=\"convertToInteractive('df-1fd466e8-ac02-4106-9123-ef2596bc8a99')\"\n",
              "              title=\"Convert this dataframe to an interactive table.\"\n",
              "              style=\"display:none;\">\n",
              "        \n",
              "  <svg xmlns=\"http://www.w3.org/2000/svg\" height=\"24px\"viewBox=\"0 0 24 24\"\n",
              "       width=\"24px\">\n",
              "    <path d=\"M0 0h24v24H0V0z\" fill=\"none\"/>\n",
              "    <path d=\"M18.56 5.44l.94 2.06.94-2.06 2.06-.94-2.06-.94-.94-2.06-.94 2.06-2.06.94zm-11 1L8.5 8.5l.94-2.06 2.06-.94-2.06-.94L8.5 2.5l-.94 2.06-2.06.94zm10 10l.94 2.06.94-2.06 2.06-.94-2.06-.94-.94-2.06-.94 2.06-2.06.94z\"/><path d=\"M17.41 7.96l-1.37-1.37c-.4-.4-.92-.59-1.43-.59-.52 0-1.04.2-1.43.59L10.3 9.45l-7.72 7.72c-.78.78-.78 2.05 0 2.83L4 21.41c.39.39.9.59 1.41.59.51 0 1.02-.2 1.41-.59l7.78-7.78 2.81-2.81c.8-.78.8-2.07 0-2.86zM5.41 20L4 18.59l7.72-7.72 1.47 1.35L5.41 20z\"/>\n",
              "  </svg>\n",
              "      </button>\n",
              "      \n",
              "  <style>\n",
              "    .colab-df-container {\n",
              "      display:flex;\n",
              "      flex-wrap:wrap;\n",
              "      gap: 12px;\n",
              "    }\n",
              "\n",
              "    .colab-df-convert {\n",
              "      background-color: #E8F0FE;\n",
              "      border: none;\n",
              "      border-radius: 50%;\n",
              "      cursor: pointer;\n",
              "      display: none;\n",
              "      fill: #1967D2;\n",
              "      height: 32px;\n",
              "      padding: 0 0 0 0;\n",
              "      width: 32px;\n",
              "    }\n",
              "\n",
              "    .colab-df-convert:hover {\n",
              "      background-color: #E2EBFA;\n",
              "      box-shadow: 0px 1px 2px rgba(60, 64, 67, 0.3), 0px 1px 3px 1px rgba(60, 64, 67, 0.15);\n",
              "      fill: #174EA6;\n",
              "    }\n",
              "\n",
              "    [theme=dark] .colab-df-convert {\n",
              "      background-color: #3B4455;\n",
              "      fill: #D2E3FC;\n",
              "    }\n",
              "\n",
              "    [theme=dark] .colab-df-convert:hover {\n",
              "      background-color: #434B5C;\n",
              "      box-shadow: 0px 1px 3px 1px rgba(0, 0, 0, 0.15);\n",
              "      filter: drop-shadow(0px 1px 2px rgba(0, 0, 0, 0.3));\n",
              "      fill: #FFFFFF;\n",
              "    }\n",
              "  </style>\n",
              "\n",
              "      <script>\n",
              "        const buttonEl =\n",
              "          document.querySelector('#df-1fd466e8-ac02-4106-9123-ef2596bc8a99 button.colab-df-convert');\n",
              "        buttonEl.style.display =\n",
              "          google.colab.kernel.accessAllowed ? 'block' : 'none';\n",
              "\n",
              "        async function convertToInteractive(key) {\n",
              "          const element = document.querySelector('#df-1fd466e8-ac02-4106-9123-ef2596bc8a99');\n",
              "          const dataTable =\n",
              "            await google.colab.kernel.invokeFunction('convertToInteractive',\n",
              "                                                     [key], {});\n",
              "          if (!dataTable) return;\n",
              "\n",
              "          const docLinkHtml = 'Like what you see? Visit the ' +\n",
              "            '<a target=\"_blank\" href=https://colab.research.google.com/notebooks/data_table.ipynb>data table notebook</a>'\n",
              "            + ' to learn more about interactive tables.';\n",
              "          element.innerHTML = '';\n",
              "          dataTable['output_type'] = 'display_data';\n",
              "          await google.colab.output.renderOutput(dataTable, element);\n",
              "          const docLink = document.createElement('div');\n",
              "          docLink.innerHTML = docLinkHtml;\n",
              "          element.appendChild(docLink);\n",
              "        }\n",
              "      </script>\n",
              "    </div>\n",
              "  </div>\n",
              "  "
            ]
          },
          "metadata": {},
          "execution_count": 11
        }
      ]
    },
    {
      "cell_type": "code",
      "source": [
        "data.isnull().sum()"
      ],
      "metadata": {
        "colab": {
          "base_uri": "https://localhost:8080/"
        },
        "id": "DZBgzR_m73S2",
        "outputId": "280c30fd-55b7-48f4-fd77-ac57ddf456d7"
      },
      "execution_count": 12,
      "outputs": [
        {
          "output_type": "execute_result",
          "data": {
            "text/plain": [
              "UserName           0\n",
              "ScreenName         0\n",
              "Location         452\n",
              "TweetAt            0\n",
              "OriginalTweet      0\n",
              "Sentiment          0\n",
              "dtype: int64"
            ]
          },
          "metadata": {},
          "execution_count": 12
        }
      ]
    },
    {
      "cell_type": "code",
      "source": [
        "import matplotlib.pyplot as plt\n",
        "%matplotlib inline\n",
        "import seaborn as sns\n",
        "print('percentage of review types:\\n')\n",
        "print(round(data.Sentiment.value_counts(normalize=True)*100,2))\n",
        "round(data.Sentiment.value_counts(normalize=True)*100,2).plot(kind='bar')\n",
        "plt.title('review type')\n",
        "plt.show()"
      ],
      "metadata": {
        "colab": {
          "base_uri": "https://localhost:8080/",
          "height": 403
        },
        "id": "wYXtqMEz77OY",
        "outputId": "626ae063-0412-4a0a-82fe-19531a4d4ffc"
      },
      "execution_count": 13,
      "outputs": [
        {
          "output_type": "stream",
          "name": "stdout",
          "text": [
            "percentage of review types:\n",
            "\n",
            "Negative    52.36\n",
            "Positive    47.64\n",
            "Name: Sentiment, dtype: float64\n"
          ]
        },
        {
          "output_type": "display_data",
          "data": {
            "text/plain": [
              "<Figure size 432x288 with 1 Axes>"
            ],
            "image/png": "[encoded data removed]"
          },
          "metadata": {
            "needs_background": "light"
          }
        }
      ]
    },
    {
      "cell_type": "code",
      "source": [
        "data.drop(['TweetAt','ScreenName','UserName','Location'],axis=1,inplace=True)"
      ],
      "metadata": {
        "id": "S9WF-wQw79UB"
      },
      "execution_count": 14,
      "outputs": []
    },
    {
      "cell_type": "code",
      "source": [
        "data.head(10)"
      ],
      "metadata": {
        "colab": {
          "base_uri": "https://localhost:8080/",
          "height": 363
        },
        "id": "5EYl14QL8BCP",
        "outputId": "50a72ee8-0756-4ec8-b083-e9520cee2d39"
      },
      "execution_count": 15,
      "outputs": [
        {
          "output_type": "execute_result",
          "data": {
            "text/plain": [
              "                                       OriginalTweet Sentiment\n",
              "0  When I couldn't find hand sanitizer at Fred Me...  Positive\n",
              "1  #Panic buying hits #NewYork City as anxious sh...  Negative\n",
              "2  Voting in the age of #coronavirus = hand sanit...  Positive\n",
              "3  Best quality couches at unbelievably low price...  Positive\n",
              "4  While we were busy watching election returns a...  Positive\n",
              "5  That's about a week from now. A bit optimistic...  Positive\n",
              "6  #CoronaVirus #COVID_19 People are starting to ...  Negative\n",
              "7  Alright yall I hope our Melanin prevails but ...  Positive\n",
              "8  When your usual grocery shopping @woolworths t...  Negative\n",
              "9  Coronavirus panic spreads: Costco is pulling f...  Negative"
            ],
            "text/html": [
              "\n",
              "  <div id=\"df-2287431f-165f-4bc1-8abe-19028527a156\">\n",
              "    <div class=\"colab-df-container\">\n",
              "      <div>\n",
              "<style scoped>\n",
              "    .dataframe tbody tr th:only-of-type {\n",
              "        vertical-align: middle;\n",
              "    }\n",
              "\n",
              "    .dataframe tbody tr th {\n",
              "        vertical-align: top;\n",
              "    }\n",
              "\n",
              "    .dataframe thead th {\n",
              "        text-align: right;\n",
              "    }\n",
              "</style>\n",
              "<table border=\"1\" class=\"dataframe\">\n",
              "  <thead>\n",
              "    <tr style=\"text-align: right;\">\n",
              "      <th></th>\n",
              "      <th>OriginalTweet</th>\n",
              "      <th>Sentiment</th>\n",
              "    </tr>\n",
              "  </thead>\n",
              "  <tbody>\n",
              "    <tr>\n",
              "      <th>0</th>\n",
              "      <td>When I couldn't find hand sanitizer at Fred Me...</td>\n",
              "      <td>Positive</td>\n",
              "    </tr>\n",
              "    <tr>\n",
              "      <th>1</th>\n",
              "      <td>#Panic buying hits #NewYork City as anxious sh...</td>\n",
              "      <td>Negative</td>\n",
              "    </tr>\n",
              "    <tr>\n",
              "      <th>2</th>\n",
              "      <td>Voting in the age of #coronavirus = hand sanit...</td>\n",
              "      <td>Positive</td>\n",
              "    </tr>\n",
              "    <tr>\n",
              "      <th>3</th>\n",
              "      <td>Best quality couches at unbelievably low price...</td>\n",
              "      <td>Positive</td>\n",
              "    </tr>\n",
              "    <tr>\n",
              "      <th>4</th>\n",
              "      <td>While we were busy watching election returns a...</td>\n",
              "      <td>Positive</td>\n",
              "    </tr>\n",
              "    <tr>\n",
              "      <th>5</th>\n",
              "      <td>That's about a week from now. A bit optimistic...</td>\n",
              "      <td>Positive</td>\n",
              "    </tr>\n",
              "    <tr>\n",
              "      <th>6</th>\n",
              "      <td>#CoronaVirus #COVID_19 People are starting to ...</td>\n",
              "      <td>Negative</td>\n",
              "    </tr>\n",
              "    <tr>\n",
              "      <th>7</th>\n",
              "      <td>Alright yall I hope our Melanin prevails but ...</td>\n",
              "      <td>Positive</td>\n",
              "    </tr>\n",
              "    <tr>\n",
              "      <th>8</th>\n",
              "      <td>When your usual grocery shopping @woolworths t...</td>\n",
              "      <td>Negative</td>\n",
              "    </tr>\n",
              "    <tr>\n",
              "      <th>9</th>\n",
              "      <td>Coronavirus panic spreads: Costco is pulling f...</td>\n",
              "      <td>Negative</td>\n",
              "    </tr>\n",
              "  </tbody>\n",
              "</table>\n",
              "</div>\n",
              "      <button class=\"colab-df-convert\" onclick=\"convertToInteractive('df-2287431f-165f-4bc1-8abe-19028527a156')\"\n",
              "              title=\"Convert this dataframe to an interactive table.\"\n",
              "              style=\"display:none;\">\n",
              "        \n",
              "  <svg xmlns=\"http://www.w3.org/2000/svg\" height=\"24px\"viewBox=\"0 0 24 24\"\n",
              "       width=\"24px\">\n",
              "    <path d=\"M0 0h24v24H0V0z\" fill=\"none\"/>\n",
              "    <path d=\"M18.56 5.44l.94 2.06.94-2.06 2.06-.94-2.06-.94-.94-2.06-.94 2.06-2.06.94zm-11 1L8.5 8.5l.94-2.06 2.06-.94-2.06-.94L8.5 2.5l-.94 2.06-2.06.94zm10 10l.94 2.06.94-2.06 2.06-.94-2.06-.94-.94-2.06-.94 2.06-2.06.94z\"/><path d=\"M17.41 7.96l-1.37-1.37c-.4-.4-.92-.59-1.43-.59-.52 0-1.04.2-1.43.59L10.3 9.45l-7.72 7.72c-.78.78-.78 2.05 0 2.83L4 21.41c.39.39.9.59 1.41.59.51 0 1.02-.2 1.41-.59l7.78-7.78 2.81-2.81c.8-.78.8-2.07 0-2.86zM5.41 20L4 18.59l7.72-7.72 1.47 1.35L5.41 20z\"/>\n",
              "  </svg>\n",
              "      </button>\n",
              "      \n",
              "  <style>\n",
              "    .colab-df-container {\n",
              "      display:flex;\n",
              "      flex-wrap:wrap;\n",
              "      gap: 12px;\n",
              "    }\n",
              "\n",
              "    .colab-df-convert {\n",
              "      background-color: #E8F0FE;\n",
              "      border: none;\n",
              "      border-radius: 50%;\n",
              "      cursor: pointer;\n",
              "      display: none;\n",
              "      fill: #1967D2;\n",
              "      height: 32px;\n",
              "      padding: 0 0 0 0;\n",
              "      width: 32px;\n",
              "    }\n",
              "\n",
              "    .colab-df-convert:hover {\n",
              "      background-color: #E2EBFA;\n",
              "      box-shadow: 0px 1px 2px rgba(60, 64, 67, 0.3), 0px 1px 3px 1px rgba(60, 64, 67, 0.15);\n",
              "      fill: #174EA6;\n",
              "    }\n",
              "\n",
              "    [theme=dark] .colab-df-convert {\n",
              "      background-color: #3B4455;\n",
              "      fill: #D2E3FC;\n",
              "    }\n",
              "\n",
              "    [theme=dark] .colab-df-convert:hover {\n",
              "      background-color: #434B5C;\n",
              "      box-shadow: 0px 1px 3px 1px rgba(0, 0, 0, 0.15);\n",
              "      filter: drop-shadow(0px 1px 2px rgba(0, 0, 0, 0.3));\n",
              "      fill: #FFFFFF;\n",
              "    }\n",
              "  </style>\n",
              "\n",
              "      <script>\n",
              "        const buttonEl =\n",
              "          document.querySelector('#df-2287431f-165f-4bc1-8abe-19028527a156 button.colab-df-convert');\n",
              "        buttonEl.style.display =\n",
              "          google.colab.kernel.accessAllowed ? 'block' : 'none';\n",
              "\n",
              "        async function convertToInteractive(key) {\n",
              "          const element = document.querySelector('#df-2287431f-165f-4bc1-8abe-19028527a156');\n",
              "          const dataTable =\n",
              "            await google.colab.kernel.invokeFunction('convertToInteractive',\n",
              "                                                     [key], {});\n",
              "          if (!dataTable) return;\n",
              "\n",
              "          const docLinkHtml = 'Like what you see? Visit the ' +\n",
              "            '<a target=\"_blank\" href=https://colab.research.google.com/notebooks/data_table.ipynb>data table notebook</a>'\n",
              "            + ' to learn more about interactive tables.';\n",
              "          element.innerHTML = '';\n",
              "          dataTable['output_type'] = 'display_data';\n",
              "          await google.colab.output.renderOutput(dataTable, element);\n",
              "          const docLink = document.createElement('div');\n",
              "          docLink.innerHTML = docLinkHtml;\n",
              "          element.appendChild(docLink);\n",
              "        }\n",
              "      </script>\n",
              "    </div>\n",
              "  </div>\n",
              "  "
            ]
          },
          "metadata": {},
          "execution_count": 15
        }
      ]
    },
    {
      "cell_type": "code",
      "source": [
        "data.shape"
      ],
      "metadata": {
        "colab": {
          "base_uri": "https://localhost:8080/"
        },
        "id": "UMu5TXSS8E9a",
        "outputId": "91d656f9-b78f-4deb-a45c-d29fe32fc372"
      },
      "execution_count": 16,
      "outputs": [
        {
          "output_type": "execute_result",
          "data": {
            "text/plain": [
              "(1988, 2)"
            ]
          },
          "metadata": {},
          "execution_count": 16
        }
      ]
    },
    {
      "cell_type": "code",
      "source": [
        "data['OriginalTweet'][572]"
      ],
      "metadata": {
        "colab": {
          "base_uri": "https://localhost:8080/",
          "height": 53
        },
        "id": "qCLyfrOY8Jml",
        "outputId": "612e4bde-dc07-4032-fbe8-9cf8fe31f7be"
      },
      "execution_count": 17,
      "outputs": [
        {
          "output_type": "execute_result",
          "data": {
            "text/plain": [
              "'COVID-19 is getting out of hand now, rumours of the government shutting down the entire continent gathering pace &amp; food stock is disappearing from the markets.'"
            ],
            "application/vnd.google.colaboratory.intrinsic+json": {
              "type": "string"
            }
          },
          "metadata": {},
          "execution_count": 17
        }
      ]
    },
    {
      "cell_type": "code",
      "source": [
        "import re\n",
        "import string\n",
        "\n",
        "def clean(text):\n",
        "    text = text.lower()\n",
        "    text = re.sub('\\[.*?\\]', '',text)\n",
        "    text=re.sub('[%s]' % re.escape(string.punctuation), '',text)\n",
        "    text=re.sub('\\w*\\d\\w*', '',text)\n",
        "    return text\n",
        "cleaned = lambda x: clean(x)"
      ],
      "metadata": {
        "id": "AtmMtlZ68Nvx"
      },
      "execution_count": 18,
      "outputs": []
    },
    {
      "cell_type": "code",
      "source": [
        "data['description']=pd.DataFrame(data.OriginalTweet.apply(cleaned))"
      ],
      "metadata": {
        "id": "CjlNWiiT8RzW"
      },
      "execution_count": 19,
      "outputs": []
    },
    {
      "cell_type": "code",
      "source": [
        "data.sample(10)"
      ],
      "metadata": {
        "colab": {
          "base_uri": "https://localhost:8080/",
          "height": 363
        },
        "id": "oKIt5vJ48VtT",
        "outputId": "0693b880-b2d5-4794-8e78-2e5062173223"
      },
      "execution_count": 20,
      "outputs": [
        {
          "output_type": "execute_result",
          "data": {
            "text/plain": [
              "                                          OriginalTweet Sentiment  \\\n",
              "497   The businessDEPOT team shares what they would ...  Positive   \n",
              "1230  @HyVee any plans to reconsider or postpone the...  Negative   \n",
              "1429  Scenes from grocery store battle ground part 5...  Negative   \n",
              "309   There is a lot of stress out there.\\r\\r\\nAs I ...  Negative   \n",
              "1262  Decided to visit the grocery store:\\r\\r\\nNo ba...  Negative   \n",
              "311   Nothing like a panic in the supermarket. My lo...  Negative   \n",
              "322   Shops have now sold out of nappies and baby fo...  Negative   \n",
              "858   People are understandably worried about the sp...  Negative   \n",
              "1935  Coronavirus is taking over all aspects of the ...  Positive   \n",
              "1662  I find it fascinating the things people choose...  Negative   \n",
              "\n",
              "                                            description  \n",
              "497   the businessdepot team shares what they would ...  \n",
              "1230  hyvee any plans to reconsider or postpone the ...  \n",
              "1429  scenes from grocery store battle ground part \\...  \n",
              "309   there is a lot of stress out there\\r\\r\\nas i d...  \n",
              "1262  decided to visit the grocery store\\r\\r\\nno ban...  \n",
              "311   nothing like a panic in the supermarket my lor...  \n",
              "322   shops have now sold out of nappies and baby fo...  \n",
              "858   people are understandably worried about the sp...  \n",
              "1935  coronavirus is taking over all aspects of the ...  \n",
              "1662  i find it fascinating the things people choose...  "
            ],
            "text/html": [
              "\n",
              "  <div id=\"df-3181de3a-5699-462c-afbb-937240268367\">\n",
              "    <div class=\"colab-df-container\">\n",
              "      <div>\n",
              "<style scoped>\n",
              "    .dataframe tbody tr th:only-of-type {\n",
              "        vertical-align: middle;\n",
              "    }\n",
              "\n",
              "    .dataframe tbody tr th {\n",
              "        vertical-align: top;\n",
              "    }\n",
              "\n",
              "    .dataframe thead th {\n",
              "        text-align: right;\n",
              "    }\n",
              "</style>\n",
              "<table border=\"1\" class=\"dataframe\">\n",
              "  <thead>\n",
              "    <tr style=\"text-align: right;\">\n",
              "      <th></th>\n",
              "      <th>OriginalTweet</th>\n",
              "      <th>Sentiment</th>\n",
              "      <th>description</th>\n",
              "    </tr>\n",
              "  </thead>\n",
              "  <tbody>\n",
              "    <tr>\n",
              "      <th>497</th>\n",
              "      <td>The businessDEPOT team shares what they would ...</td>\n",
              "      <td>Positive</td>\n",
              "      <td>the businessdepot team shares what they would ...</td>\n",
              "    </tr>\n",
              "    <tr>\n",
              "      <th>1230</th>\n",
              "      <td>@HyVee any plans to reconsider or postpone the...</td>\n",
              "      <td>Negative</td>\n",
              "      <td>hyvee any plans to reconsider or postpone the ...</td>\n",
              "    </tr>\n",
              "    <tr>\n",
              "      <th>1429</th>\n",
              "      <td>Scenes from grocery store battle ground part 5...</td>\n",
              "      <td>Negative</td>\n",
              "      <td>scenes from grocery store battle ground part \\...</td>\n",
              "    </tr>\n",
              "    <tr>\n",
              "      <th>309</th>\n",
              "      <td>There is a lot of stress out there.\\r\\r\\nAs I ...</td>\n",
              "      <td>Negative</td>\n",
              "      <td>there is a lot of stress out there\\r\\r\\nas i d...</td>\n",
              "    </tr>\n",
              "    <tr>\n",
              "      <th>1262</th>\n",
              "      <td>Decided to visit the grocery store:\\r\\r\\nNo ba...</td>\n",
              "      <td>Negative</td>\n",
              "      <td>decided to visit the grocery store\\r\\r\\nno ban...</td>\n",
              "    </tr>\n",
              "    <tr>\n",
              "      <th>311</th>\n",
              "      <td>Nothing like a panic in the supermarket. My lo...</td>\n",
              "      <td>Negative</td>\n",
              "      <td>nothing like a panic in the supermarket my lor...</td>\n",
              "    </tr>\n",
              "    <tr>\n",
              "      <th>322</th>\n",
              "      <td>Shops have now sold out of nappies and baby fo...</td>\n",
              "      <td>Negative</td>\n",
              "      <td>shops have now sold out of nappies and baby fo...</td>\n",
              "    </tr>\n",
              "    <tr>\n",
              "      <th>858</th>\n",
              "      <td>People are understandably worried about the sp...</td>\n",
              "      <td>Negative</td>\n",
              "      <td>people are understandably worried about the sp...</td>\n",
              "    </tr>\n",
              "    <tr>\n",
              "      <th>1935</th>\n",
              "      <td>Coronavirus is taking over all aspects of the ...</td>\n",
              "      <td>Positive</td>\n",
              "      <td>coronavirus is taking over all aspects of the ...</td>\n",
              "    </tr>\n",
              "    <tr>\n",
              "      <th>1662</th>\n",
              "      <td>I find it fascinating the things people choose...</td>\n",
              "      <td>Negative</td>\n",
              "      <td>i find it fascinating the things people choose...</td>\n",
              "    </tr>\n",
              "  </tbody>\n",
              "</table>\n",
              "</div>\n",
              "      <button class=\"colab-df-convert\" onclick=\"convertToInteractive('df-3181de3a-5699-462c-afbb-937240268367')\"\n",
              "              title=\"Convert this dataframe to an interactive table.\"\n",
              "              style=\"display:none;\">\n",
              "        \n",
              "  <svg xmlns=\"http://www.w3.org/2000/svg\" height=\"24px\"viewBox=\"0 0 24 24\"\n",
              "       width=\"24px\">\n",
              "    <path d=\"M0 0h24v24H0V0z\" fill=\"none\"/>\n",
              "    <path d=\"M18.56 5.44l.94 2.06.94-2.06 2.06-.94-2.06-.94-.94-2.06-.94 2.06-2.06.94zm-11 1L8.5 8.5l.94-2.06 2.06-.94-2.06-.94L8.5 2.5l-.94 2.06-2.06.94zm10 10l.94 2.06.94-2.06 2.06-.94-2.06-.94-.94-2.06-.94 2.06-2.06.94z\"/><path d=\"M17.41 7.96l-1.37-1.37c-.4-.4-.92-.59-1.43-.59-.52 0-1.04.2-1.43.59L10.3 9.45l-7.72 7.72c-.78.78-.78 2.05 0 2.83L4 21.41c.39.39.9.59 1.41.59.51 0 1.02-.2 1.41-.59l7.78-7.78 2.81-2.81c.8-.78.8-2.07 0-2.86zM5.41 20L4 18.59l7.72-7.72 1.47 1.35L5.41 20z\"/>\n",
              "  </svg>\n",
              "      </button>\n",
              "      \n",
              "  <style>\n",
              "    .colab-df-container {\n",
              "      display:flex;\n",
              "      flex-wrap:wrap;\n",
              "      gap: 12px;\n",
              "    }\n",
              "\n",
              "    .colab-df-convert {\n",
              "      background-color: #E8F0FE;\n",
              "      border: none;\n",
              "      border-radius: 50%;\n",
              "      cursor: pointer;\n",
              "      display: none;\n",
              "      fill: #1967D2;\n",
              "      height: 32px;\n",
              "      padding: 0 0 0 0;\n",
              "      width: 32px;\n",
              "    }\n",
              "\n",
              "    .colab-df-convert:hover {\n",
              "      background-color: #E2EBFA;\n",
              "      box-shadow: 0px 1px 2px rgba(60, 64, 67, 0.3), 0px 1px 3px 1px rgba(60, 64, 67, 0.15);\n",
              "      fill: #174EA6;\n",
              "    }\n",
              "\n",
              "    [theme=dark] .colab-df-convert {\n",
              "      background-color: #3B4455;\n",
              "      fill: #D2E3FC;\n",
              "    }\n",
              "\n",
              "    [theme=dark] .colab-df-convert:hover {\n",
              "      background-color: #434B5C;\n",
              "      box-shadow: 0px 1px 3px 1px rgba(0, 0, 0, 0.15);\n",
              "      filter: drop-shadow(0px 1px 2px rgba(0, 0, 0, 0.3));\n",
              "      fill: #FFFFFF;\n",
              "    }\n",
              "  </style>\n",
              "\n",
              "      <script>\n",
              "        const buttonEl =\n",
              "          document.querySelector('#df-3181de3a-5699-462c-afbb-937240268367 button.colab-df-convert');\n",
              "        buttonEl.style.display =\n",
              "          google.colab.kernel.accessAllowed ? 'block' : 'none';\n",
              "\n",
              "        async function convertToInteractive(key) {\n",
              "          const element = document.querySelector('#df-3181de3a-5699-462c-afbb-937240268367');\n",
              "          const dataTable =\n",
              "            await google.colab.kernel.invokeFunction('convertToInteractive',\n",
              "                                                     [key], {});\n",
              "          if (!dataTable) return;\n",
              "\n",
              "          const docLinkHtml = 'Like what you see? Visit the ' +\n",
              "            '<a target=\"_blank\" href=https://colab.research.google.com/notebooks/data_table.ipynb>data table notebook</a>'\n",
              "            + ' to learn more about interactive tables.';\n",
              "          element.innerHTML = '';\n",
              "          dataTable['output_type'] = 'display_data';\n",
              "          await google.colab.output.renderOutput(dataTable, element);\n",
              "          const docLink = document.createElement('div');\n",
              "          docLink.innerHTML = docLinkHtml;\n",
              "          element.appendChild(docLink);\n",
              "        }\n",
              "      </script>\n",
              "    </div>\n",
              "  </div>\n",
              "  "
            ]
          },
          "metadata": {},
          "execution_count": 20
        }
      ]
    },
    {
      "cell_type": "code",
      "source": [
        "def clean2(text):\n",
        "    text = re.sub('[''\"\"...]' , '', text)\n",
        "    text = re.sub('\\n', '', text)\n",
        "    return text\n",
        "cleaned2 = lambda x: clean2(x)"
      ],
      "metadata": {
        "id": "f1DEu1_S8Xw5"
      },
      "execution_count": 21,
      "outputs": []
    },
    {
      "cell_type": "code",
      "source": [
        "data['tweet'] = pd.DataFrame(data.description.apply(cleaned2))"
      ],
      "metadata": {
        "id": "7wwmbOda8amJ"
      },
      "execution_count": 22,
      "outputs": []
    },
    {
      "cell_type": "code",
      "source": [
        "data.head()"
      ],
      "metadata": {
        "colab": {
          "base_uri": "https://localhost:8080/",
          "height": 337
        },
        "id": "-3MCkTXD8cpc",
        "outputId": "198dac5a-b6f3-44b4-ecf4-e0bdf577cf2c"
      },
      "execution_count": 23,
      "outputs": [
        {
          "output_type": "execute_result",
          "data": {
            "text/plain": [
              "                                       OriginalTweet Sentiment  \\\n",
              "0  When I couldn't find hand sanitizer at Fred Me...  Positive   \n",
              "1  #Panic buying hits #NewYork City as anxious sh...  Negative   \n",
              "2  Voting in the age of #coronavirus = hand sanit...  Positive   \n",
              "3  Best quality couches at unbelievably low price...  Positive   \n",
              "4  While we were busy watching election returns a...  Positive   \n",
              "\n",
              "                                         description  \\\n",
              "0  when i couldnt find hand sanitizer at fred mey...   \n",
              "1  panic buying hits newyork city as anxious shop...   \n",
              "2  voting in the age of coronavirus  hand sanitiz...   \n",
              "3  best quality couches at unbelievably low price...   \n",
              "4  while we were busy watching election returns a...   \n",
              "\n",
              "                                               tweet  \n",
              "0  when i couldnt find hand sanitizer at fred mey...  \n",
              "1  panic buying hits newyork city as anxious shop...  \n",
              "2  voting in the age of coronavirus  hand sanitiz...  \n",
              "3  best quality couches at unbelievably low price...  \n",
              "4  while we were busy watching election returns a...  "
            ],
            "text/html": [
              "\n",
              "  <div id=\"df-20d36ee7-32c0-4ff8-a743-093c0b1bd470\">\n",
              "    <div class=\"colab-df-container\">\n",
              "      <div>\n",
              "<style scoped>\n",
              "    .dataframe tbody tr th:only-of-type {\n",
              "        vertical-align: middle;\n",
              "    }\n",
              "\n",
              "    .dataframe tbody tr th {\n",
              "        vertical-align: top;\n",
              "    }\n",
              "\n",
              "    .dataframe thead th {\n",
              "        text-align: right;\n",
              "    }\n",
              "</style>\n",
              "<table border=\"1\" class=\"dataframe\">\n",
              "  <thead>\n",
              "    <tr style=\"text-align: right;\">\n",
              "      <th></th>\n",
              "      <th>OriginalTweet</th>\n",
              "      <th>Sentiment</th>\n",
              "      <th>description</th>\n",
              "      <th>tweet</th>\n",
              "    </tr>\n",
              "  </thead>\n",
              "  <tbody>\n",
              "    <tr>\n",
              "      <th>0</th>\n",
              "      <td>When I couldn't find hand sanitizer at Fred Me...</td>\n",
              "      <td>Positive</td>\n",
              "      <td>when i couldnt find hand sanitizer at fred mey...</td>\n",
              "      <td>when i couldnt find hand sanitizer at fred mey...</td>\n",
              "    </tr>\n",
              "    <tr>\n",
              "      <th>1</th>\n",
              "      <td>#Panic buying hits #NewYork City as anxious sh...</td>\n",
              "      <td>Negative</td>\n",
              "      <td>panic buying hits newyork city as anxious shop...</td>\n",
              "      <td>panic buying hits newyork city as anxious shop...</td>\n",
              "    </tr>\n",
              "    <tr>\n",
              "      <th>2</th>\n",
              "      <td>Voting in the age of #coronavirus = hand sanit...</td>\n",
              "      <td>Positive</td>\n",
              "      <td>voting in the age of coronavirus  hand sanitiz...</td>\n",
              "      <td>voting in the age of coronavirus  hand sanitiz...</td>\n",
              "    </tr>\n",
              "    <tr>\n",
              "      <th>3</th>\n",
              "      <td>Best quality couches at unbelievably low price...</td>\n",
              "      <td>Positive</td>\n",
              "      <td>best quality couches at unbelievably low price...</td>\n",
              "      <td>best quality couches at unbelievably low price...</td>\n",
              "    </tr>\n",
              "    <tr>\n",
              "      <th>4</th>\n",
              "      <td>While we were busy watching election returns a...</td>\n",
              "      <td>Positive</td>\n",
              "      <td>while we were busy watching election returns a...</td>\n",
              "      <td>while we were busy watching election returns a...</td>\n",
              "    </tr>\n",
              "  </tbody>\n",
              "</table>\n",
              "</div>\n",
              "      <button class=\"colab-df-convert\" onclick=\"convertToInteractive('df-20d36ee7-32c0-4ff8-a743-093c0b1bd470')\"\n",
              "              title=\"Convert this dataframe to an interactive table.\"\n",
              "              style=\"display:none;\">\n",
              "        \n",
              "  <svg xmlns=\"http://www.w3.org/2000/svg\" height=\"24px\"viewBox=\"0 0 24 24\"\n",
              "       width=\"24px\">\n",
              "    <path d=\"M0 0h24v24H0V0z\" fill=\"none\"/>\n",
              "    <path d=\"M18.56 5.44l.94 2.06.94-2.06 2.06-.94-2.06-.94-.94-2.06-.94 2.06-2.06.94zm-11 1L8.5 8.5l.94-2.06 2.06-.94-2.06-.94L8.5 2.5l-.94 2.06-2.06.94zm10 10l.94 2.06.94-2.06 2.06-.94-2.06-.94-.94-2.06-.94 2.06-2.06.94z\"/><path d=\"M17.41 7.96l-1.37-1.37c-.4-.4-.92-.59-1.43-.59-.52 0-1.04.2-1.43.59L10.3 9.45l-7.72 7.72c-.78.78-.78 2.05 0 2.83L4 21.41c.39.39.9.59 1.41.59.51 0 1.02-.2 1.41-.59l7.78-7.78 2.81-2.81c.8-.78.8-2.07 0-2.86zM5.41 20L4 18.59l7.72-7.72 1.47 1.35L5.41 20z\"/>\n",
              "  </svg>\n",
              "      </button>\n",
              "      \n",
              "  <style>\n",
              "    .colab-df-container {\n",
              "      display:flex;\n",
              "      flex-wrap:wrap;\n",
              "      gap: 12px;\n",
              "    }\n",
              "\n",
              "    .colab-df-convert {\n",
              "      background-color: #E8F0FE;\n",
              "      border: none;\n",
              "      border-radius: 50%;\n",
              "      cursor: pointer;\n",
              "      display: none;\n",
              "      fill: #1967D2;\n",
              "      height: 32px;\n",
              "      padding: 0 0 0 0;\n",
              "      width: 32px;\n",
              "    }\n",
              "\n",
              "    .colab-df-convert:hover {\n",
              "      background-color: #E2EBFA;\n",
              "      box-shadow: 0px 1px 2px rgba(60, 64, 67, 0.3), 0px 1px 3px 1px rgba(60, 64, 67, 0.15);\n",
              "      fill: #174EA6;\n",
              "    }\n",
              "\n",
              "    [theme=dark] .colab-df-convert {\n",
              "      background-color: #3B4455;\n",
              "      fill: #D2E3FC;\n",
              "    }\n",
              "\n",
              "    [theme=dark] .colab-df-convert:hover {\n",
              "      background-color: #434B5C;\n",
              "      box-shadow: 0px 1px 3px 1px rgba(0, 0, 0, 0.15);\n",
              "      filter: drop-shadow(0px 1px 2px rgba(0, 0, 0, 0.3));\n",
              "      fill: #FFFFFF;\n",
              "    }\n",
              "  </style>\n",
              "\n",
              "      <script>\n",
              "        const buttonEl =\n",
              "          document.querySelector('#df-20d36ee7-32c0-4ff8-a743-093c0b1bd470 button.colab-df-convert');\n",
              "        buttonEl.style.display =\n",
              "          google.colab.kernel.accessAllowed ? 'block' : 'none';\n",
              "\n",
              "        async function convertToInteractive(key) {\n",
              "          const element = document.querySelector('#df-20d36ee7-32c0-4ff8-a743-093c0b1bd470');\n",
              "          const dataTable =\n",
              "            await google.colab.kernel.invokeFunction('convertToInteractive',\n",
              "                                                     [key], {});\n",
              "          if (!dataTable) return;\n",
              "\n",
              "          const docLinkHtml = 'Like what you see? Visit the ' +\n",
              "            '<a target=\"_blank\" href=https://colab.research.google.com/notebooks/data_table.ipynb>data table notebook</a>'\n",
              "            + ' to learn more about interactive tables.';\n",
              "          element.innerHTML = '';\n",
              "          dataTable['output_type'] = 'display_data';\n",
              "          await google.colab.output.renderOutput(dataTable, element);\n",
              "          const docLink = document.createElement('div');\n",
              "          docLink.innerHTML = docLinkHtml;\n",
              "          element.appendChild(docLink);\n",
              "        }\n",
              "      </script>\n",
              "    </div>\n",
              "  </div>\n",
              "  "
            ]
          },
          "metadata": {},
          "execution_count": 23
        }
      ]
    },
    {
      "cell_type": "code",
      "source": [
        "data.drop(['description'],axis=1,inplace=True)"
      ],
      "metadata": {
        "id": "EGEVNhUz8e2B"
      },
      "execution_count": 24,
      "outputs": []
    },
    {
      "cell_type": "code",
      "source": [
        "data['result'] = pd.factorize(data.Sentiment)[0]"
      ],
      "metadata": {
        "id": "2bVyV4Jd8h3z"
      },
      "execution_count": 25,
      "outputs": []
    },
    {
      "cell_type": "code",
      "source": [
        "data.result.describe()"
      ],
      "metadata": {
        "colab": {
          "base_uri": "https://localhost:8080/"
        },
        "id": "DdYQOorg8ltX",
        "outputId": "17631a88-9843-4fc7-8104-96c0b6577c78"
      },
      "execution_count": 26,
      "outputs": [
        {
          "output_type": "execute_result",
          "data": {
            "text/plain": [
              "count    1988.000000\n",
              "mean        0.523642\n",
              "std         0.499566\n",
              "min         0.000000\n",
              "25%         0.000000\n",
              "50%         1.000000\n",
              "75%         1.000000\n",
              "max         1.000000\n",
              "Name: result, dtype: float64"
            ]
          },
          "metadata": {},
          "execution_count": 26
        }
      ]
    },
    {
      "cell_type": "code",
      "source": [
        "from nltk.tokenize import word_tokenize\n",
        "import re\n",
        "import nltk\n",
        "nltk.download('stopwords')\n",
        "nltk.download('punkt')\n",
        "nltk.download('wordnet')\n",
        "from nltk.corpus import stopwords\n",
        "from nltk.stem import WordNetLemmatizer\n",
        "from nltk.stem import PorterStemmer"
      ],
      "metadata": {
        "colab": {
          "base_uri": "https://localhost:8080/"
        },
        "id": "9Zo9nKCj8sI8",
        "outputId": "426c76e1-27c4-45c5-f4dc-8d75792ca9f1"
      },
      "execution_count": 27,
      "outputs": [
        {
          "output_type": "stream",
          "name": "stdout",
          "text": [
            "[nltk_data] Downloading package stopwords to /root/nltk_data...\n",
            "[nltk_data]   Unzipping corpora/stopwords.zip.\n",
            "[nltk_data] Downloading package punkt to /root/nltk_data...\n",
            "[nltk_data]   Unzipping tokenizers/punkt.zip.\n",
            "[nltk_data] Downloading package wordnet to /root/nltk_data...\n",
            "[nltk_data]   Unzipping corpora/wordnet.zip.\n"
          ]
        }
      ]
    },
    {
      "cell_type": "code",
      "source": [
        "corpus = []\n",
        "for i in range (0,len(data.tweet)):\n",
        "    Description = re.sub('[^a-zA-Z]',\" \",data[\"tweet\"][i])\n",
        "    Description = Description.lower()\n",
        "    Description = Description.split()\n",
        "    pe=PorterStemmer()\n",
        "    all_stopword=stopwords.words('english')\n",
        "    type (all_stopword)\n",
        "    all_stopword.remove(\"not\")\n",
        "    Description = [pe.stem(word) for word in Description if not word in set (all_stopword)]\n",
        "    Description=\" \".join(Description)\n",
        "    corpus.append(Description)"
      ],
      "metadata": {
        "id": "5U_DEjoV8tVK"
      },
      "execution_count": 28,
      "outputs": []
    },
    {
      "cell_type": "code",
      "source": [
        "np.array(corpus).shape"
      ],
      "metadata": {
        "colab": {
          "base_uri": "https://localhost:8080/"
        },
        "id": "xmNDub7wHmap",
        "outputId": "6c7f3f91-3336-47f9-afbb-352ef9d39861"
      },
      "execution_count": 29,
      "outputs": [
        {
          "output_type": "execute_result",
          "data": {
            "text/plain": [
              "(1988,)"
            ]
          },
          "metadata": {},
          "execution_count": 29
        }
      ]
    },
    {
      "cell_type": "code",
      "source": [
        "from sklearn.model_selection import train_test_split\n",
        "\n",
        "x = corpus\n",
        "y = data.result\n",
        "\n",
        "xtrain,xtest,ytrain,ytest = train_test_split(x,y,test_size=0.2)\n",
        "\n",
        "print('xtrain :',len(xtrain))\n",
        "print('xtest :',len(xtest))\n",
        "print('ytrain :',len(ytrain))\n",
        "print('ytest :',len(ytest))"
      ],
      "metadata": {
        "colab": {
          "base_uri": "https://localhost:8080/"
        },
        "id": "JGwxsP68Hp-v",
        "outputId": "ae094d99-4476-4377-d1d4-af39d41d49d1"
      },
      "execution_count": 30,
      "outputs": [
        {
          "output_type": "stream",
          "name": "stdout",
          "text": [
            "xtrain : 1590\n",
            "xtest : 398\n",
            "ytrain : 1590\n",
            "ytest : 398\n"
          ]
        }
      ]
    },
    {
      "cell_type": "code",
      "source": [
        "from sklearn.feature_extraction.text import TfidfVectorizer\n",
        "from sklearn.linear_model import LogisticRegression\n",
        "\n",
        "tvec=TfidfVectorizer()\n",
        "clf=LogisticRegression(solver=\"liblinear\",penalty = \"l1\")\n",
        "\n",
        "from sklearn.pipeline import Pipeline"
      ],
      "metadata": {
        "id": "oLpwiQ8iHtos"
      },
      "execution_count": 31,
      "outputs": []
    },
    {
      "cell_type": "code",
      "source": [
        "model= Pipeline([('vectorizer',tvec),('classifier',clf)])\n",
        "\n",
        "model.fit(xtrain,ytrain)\n",
        "\n",
        "from sklearn.metrics import confusion_matrix\n",
        "\n",
        "predictions = model.predict(xtest)\n",
        "confusion_matrix(predictions,ytest)\n"
      ],
      "metadata": {
        "colab": {
          "base_uri": "https://localhost:8080/"
        },
        "id": "GS4VjQR6H3-g",
        "outputId": "ce2ea913-7d24-4a57-b131-c6a0e8fd63dd"
      },
      "execution_count": 32,
      "outputs": [
        {
          "output_type": "execute_result",
          "data": {
            "text/plain": [
              "array([[ 93,  58],\n",
              "       [ 95, 152]])"
            ]
          },
          "metadata": {},
          "execution_count": 32
        }
      ]
    },
    {
      "cell_type": "code",
      "source": [
        "model.score(xtrain,ytrain)"
      ],
      "metadata": {
        "colab": {
          "base_uri": "https://localhost:8080/"
        },
        "id": "7iSmA5bQH6m1",
        "outputId": "1415abb6-d33f-4b5a-e8f9-e8ea270c8e8f"
      },
      "execution_count": 33,
      "outputs": [
        {
          "output_type": "execute_result",
          "data": {
            "text/plain": [
              "0.6867924528301886"
            ]
          },
          "metadata": {},
          "execution_count": 33
        }
      ]
    },
    {
      "cell_type": "code",
      "source": [
        "from sklearn.metrics import accuracy_score\n",
        "\n",
        "print(\"Accuracy : \" , accuracy_score(predictions,ytest))"
      ],
      "metadata": {
        "colab": {
          "base_uri": "https://localhost:8080/"
        },
        "id": "i4zn6DsqH9hr",
        "outputId": "cb8340ce-447b-4b01-8217-e2f5e102775f"
      },
      "execution_count": 34,
      "outputs": [
        {
          "output_type": "stream",
          "name": "stdout",
          "text": [
            "Accuracy :  0.6155778894472361\n"
          ]
        }
      ]
    },
    {
      "cell_type": "code",
      "source": [
        "example=[\"corona is a disaster it made our lives bad\"]\n",
        "result=model.predict(example)\n",
        "if(result==0):\n",
        "  print(\"Positive\")\n",
        "else:\n",
        "  print(\"Negative\")"
      ],
      "metadata": {
        "colab": {
          "base_uri": "https://localhost:8080/"
        },
        "id": "ELdtgCjCIAQU",
        "outputId": "b6542885-d0ca-4535-e1cc-3c498eabafde"
      },
      "execution_count": 35,
      "outputs": [
        {
          "output_type": "stream",
          "name": "stdout",
          "text": [
            "Negative\n"
          ]
        }
      ]
    },
    {
      "cell_type": "code",
      "source": [
        "from sklearn.naive_bayes import MultinomialNB \n",
        "\n",
        "model_naive = MultinomialNB() \n",
        "tvec2=TfidfVectorizer()"
      ],
      "metadata": {
        "id": "Qfu3U3IMIGsW"
      },
      "execution_count": 36,
      "outputs": []
    },
    {
      "cell_type": "code",
      "source": [
        "model2= Pipeline([('vectorizer',tvec2),('classifier',model_naive)])\n",
        "\n",
        "model2.fit(xtrain,ytrain)\n",
        "\n",
        "\n",
        "predictions = model2.predict(xtest)\n",
        "confusion_matrix(predictions,ytest)"
      ],
      "metadata": {
        "colab": {
          "base_uri": "https://localhost:8080/"
        },
        "id": "-29ovkJsITWt",
        "outputId": "f11ead9c-dc42-4acb-a3d8-c5cb0ab156a0"
      },
      "execution_count": 37,
      "outputs": [
        {
          "output_type": "execute_result",
          "data": {
            "text/plain": [
              "array([[ 79,  48],\n",
              "       [109, 162]])"
            ]
          },
          "metadata": {},
          "execution_count": 37
        }
      ]
    },
    {
      "cell_type": "code",
      "source": [
        "model2.score(xtrain,ytrain)"
      ],
      "metadata": {
        "id": "4AjSH0fcIWLR",
        "outputId": "6f7b6e08-4fec-4bda-ed63-8b606df98c87",
        "colab": {
          "base_uri": "https://localhost:8080/"
        }
      },
      "execution_count": 38,
      "outputs": [
        {
          "output_type": "execute_result",
          "data": {
            "text/plain": [
              "0.9364779874213837"
            ]
          },
          "metadata": {},
          "execution_count": 38
        }
      ]
    },
    {
      "cell_type": "markdown",
      "source": [
        ""
      ],
      "metadata": {
        "id": "J8MY3J7pIYBO"
      }
    },
    {
      "cell_type": "code",
      "source": [
        "from sklearn.metrics import accuracy_score\n",
        "\n",
        "print(\"Accuracy : \" , accuracy_score(predictions,ytest))"
      ],
      "metadata": {
        "colab": {
          "base_uri": "https://localhost:8080/"
        },
        "id": "fOjyrILahI1G",
        "outputId": "d84a9947-5ca8-4594-9e39-618c5bcd2dd7"
      },
      "execution_count": 39,
      "outputs": [
        {
          "output_type": "stream",
          "name": "stdout",
          "text": [
            "Accuracy :  0.6055276381909548\n"
          ]
        }
      ]
    },
    {
      "cell_type": "code",
      "source": [
        "example=[\"So sad these days\"]\n",
        "result=model2.predict(example)\n",
        "if(result==0):\n",
        "  print(\"Positive\")\n",
        "else:\n",
        "  print(\"Negative\")"
      ],
      "metadata": {
        "colab": {
          "base_uri": "https://localhost:8080/"
        },
        "id": "rl_gd5edhUVo",
        "outputId": "487282a2-3abb-4a35-b979-6087fc68ab71"
      },
      "execution_count": 41,
      "outputs": [
        {
          "output_type": "stream",
          "name": "stdout",
          "text": [
            "Negative\n"
          ]
        }
      ]
    },
    {
      "cell_type": "code",
      "source": [
        ""
      ],
      "metadata": {
        "id": "qbve-C992Lvs"
      },
      "execution_count": null,
      "outputs": []
    }
  ]
}